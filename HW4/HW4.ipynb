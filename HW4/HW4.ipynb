{
 "cells": [
  {
   "cell_type": "code",
   "execution_count": 1,
   "metadata": {},
   "outputs": [],
   "source": [
    "import numpy as np\n",
    "import pandas as pd\n",
    "import random\n",
    "from sklearn.svm import SVC, SVR\n",
    "from sklearn.metrics import accuracy_score"
   ]
  },
  {
   "cell_type": "markdown",
   "metadata": {},
   "source": [
    "## Load data"
   ]
  },
  {
   "cell_type": "code",
   "execution_count": 2,
   "metadata": {},
   "outputs": [],
   "source": [
    "x_train = np.load(\"x_train.npy\")\n",
    "y_train = np.load(\"y_train.npy\")\n",
    "x_test = np.load(\"x_test.npy\")\n",
    "y_test = np.load(\"y_test.npy\")"
   ]
  },
  {
   "cell_type": "code",
   "execution_count": 3,
   "metadata": {},
   "outputs": [
    {
     "name": "stdout",
     "output_type": "stream",
     "text": [
      "(550, 300)\n"
     ]
    }
   ],
   "source": [
    "# 550 data with 300 features\n",
    "print(x_train.shape)"
   ]
  },
  {
   "cell_type": "code",
   "execution_count": 4,
   "metadata": {},
   "outputs": [
    {
     "name": "stdout",
     "output_type": "stream",
     "text": [
      "[0 1]\n"
     ]
    }
   ],
   "source": [
    "# It's a binary classification problem \n",
    "print(np.unique(y_train))"
   ]
  },
  {
   "cell_type": "markdown",
   "metadata": {},
   "source": [
    "## Question 1\n",
    "K-fold data partition: Implement the K-fold cross-validation function. Your function should take K as an argument and return a list of lists (len(list) should equal to K), which contains K elements. Each element is a list contains two parts, the first part contains the index of all training folds, e.g. Fold 2 to Fold 5 in split 1. The second part contains the index of validation fold, e.g. Fold 1 in  split 1"
   ]
  },
  {
   "cell_type": "code",
   "execution_count": 5,
   "metadata": {},
   "outputs": [],
   "source": [
    "def cross_validation(x_train, y_train, k=5):\n",
    "    # Random is equivalent to shufle \n",
    "    number_all = x_train.shape[0]\n",
    "    number_plus = number_all % k\n",
    "    number_choose = [int(number_all/k) for i in range(k)]\n",
    "    for i in range(number_plus):\n",
    "        number_choose[i] += 1 \n",
    "    all_ = [i for i in range(0, number_all)]\n",
    "    k_partition_index = []\n",
    "    for number in number_choose:\n",
    "        choose = random.sample(all_, number)\n",
    "        k_partition_index.append([choose])\n",
    "        all_ = list(set(all_) - set(choose))\n",
    "\n",
    "    all_ = [i for i in range(0, number_all)]\n",
    "    kfold_data = []\n",
    "    for i in range(k):\n",
    "        val_index = k_partition_index[i][0]\n",
    "        train_index = np.array(list(set(all_) - set(val_index)))\n",
    "        val_index = np.array(val_index)\n",
    "        kfold_data.append([train_index, val_index])\n",
    "    return kfold_data"
   ]
  },
  {
   "cell_type": "code",
   "execution_count": 6,
   "metadata": {},
   "outputs": [],
   "source": [
    "kfold_data = cross_validation(x_train, y_train, k=10)\n",
    "assert len(kfold_data) == 10 # should contain 10 fold of data\n",
    "assert len(kfold_data[0]) == 2 # each element should contain train fold and validation fold\n",
    "assert kfold_data[0][1].shape[0] == 55 # The number of data in each validation fold should equal to training data divieded by K"
   ]
  },
  {
   "cell_type": "markdown",
   "metadata": {},
   "source": [
    "## example"
   ]
  },
  {
   "cell_type": "code",
   "execution_count": 7,
   "metadata": {},
   "outputs": [
    {
     "name": "stdout",
     "output_type": "stream",
     "text": [
      "Split: 1, Training index: [ 2  4  5  6  7  8  9 10 11 12 13 15 16 17 18 19], Validation index: [ 0  1  3 14]\n",
      "Split: 2, Training index: [ 0  1  2  3  4  5  6  7  9 10 11 13 14 15 16 19], Validation index: [ 8 12 17 18]\n",
      "Split: 3, Training index: [ 0  1  2  3  6  7  8  9 10 11 12 14 15 17 18 19], Validation index: [ 4  5 13 16]\n",
      "Split: 4, Training index: [ 0  1  3  4  5  7  8  9 10 11 12 13 14 16 17 18], Validation index: [ 2  6 15 19]\n",
      "Split: 5, Training index: [ 0  1  2  3  4  5  6  8 12 13 14 15 16 17 18 19], Validation index: [ 7  9 10 11]\n"
     ]
    }
   ],
   "source": [
    "from sklearn.model_selection import KFold\n",
    "\n",
    "X = np.arange(20)\n",
    "kf = KFold(n_splits=5, shuffle=True)\n",
    "kfold_data_example= []\n",
    "for i, (train_index, val_index) in enumerate(kf.split(X)):\n",
    "    print(\"Split: %s, Training index: %s, Validation index: %s\" % (i+1, train_index, val_index))\n",
    "    kfold_data_example.append([train_index, val_index])"
   ]
  },
  {
   "cell_type": "code",
   "execution_count": 8,
   "metadata": {},
   "outputs": [],
   "source": [
    "assert len(kfold_data_example) == 5 # should contain 5 fold of data\n",
    "assert len(kfold_data_example[0]) == 2 # each element should contains index of training fold and validation fold\n",
    "assert kfold_data_example[0][1].shape[0] == 4 # The number of data in each validation fold should equal to training data divieded by K"
   ]
  },
  {
   "cell_type": "markdown",
   "metadata": {},
   "source": [
    "## Question 2\n",
    "Using sklearn.svm.SVC to train a classifier on the provided train set and conduct the grid search of “C” and “gamma” to find the best parameters by cross-validation."
   ]
  },
  {
   "cell_type": "code",
   "execution_count": 9,
   "metadata": {},
   "outputs": [],
   "source": [
    "## your code\n",
    "\n",
    "def Training(x_train, y_train, clf, kfold_data):\n",
    "    times = len(kfold_data)\n",
    "    total_accuracy = 0\n",
    "    for i in range(times):\n",
    "        training_index = kfold_data[i][0]\n",
    "        val_index = kfold_data[i][1]\n",
    "        training_data = x_train[training_index, :]\n",
    "        training_label = y_train[training_index]\n",
    "        val_data = x_train[val_index, :]\n",
    "        val_label = y_train[val_index]\n",
    "        clf.fit(training_data, training_label)\n",
    "        accuracy = clf.score(val_data, val_label)\n",
    "        total_accuracy += accuracy\n",
    "    return total_accuracy / times\n",
    "\n",
    "def Grid_Search(C_list, gamma_list, x_train, y_train, kfold_data, method):\n",
    "    best_accuracy = 0\n",
    "    best_C = 0\n",
    "    best_gamma = 0\n",
    "    best_model = None\n",
    "    gird_array = np.zeros((len(C_list), len(gamma_list)))\n",
    "    for i, gamma in enumerate(gamma_list):\n",
    "        for j, C in enumerate(C_list):\n",
    "            if method == \"SVC\":\n",
    "                clf = SVC(C=C, kernel='rbf', gamma=gamma)\n",
    "            else:\n",
    "                clf = SVR(C=C, kernel='rbf', gamma=gamma, epsilon=0.1)\n",
    "            accuracy = Training(x_train, y_train, clf, kfold_data)\n",
    "            gird_array[j, i] = accuracy\n",
    "            if accuracy > best_accuracy:\n",
    "                best_accuracy = accuracy\n",
    "                best_C = C\n",
    "                best_gamma = gamma\n",
    "                best_model = clf\n",
    "    return best_accuracy, best_C, best_gamma, gird_array, best_model\n",
    "\n",
    "method = \"SVC\"\n",
    "kfold_data = cross_validation(x_train, y_train, k=5)\n",
    "C_list = [0.01, 0.1, 1.0, 10.0, 100.0, 1000.0, 10000.0]\n",
    "gamma_list = [0.0001, 0.001, 0.01, 0.1, 1, 10, 100, 1000]\n",
    "best_accuracy, best_C, best_gamma, gird_array, best_model = Grid_Search(C_list, gamma_list, x_train, y_train, kfold_data, method)\n"
   ]
  },
  {
   "cell_type": "code",
   "execution_count": 10,
   "metadata": {},
   "outputs": [
    {
     "name": "stdout",
     "output_type": "stream",
     "text": [
      "best_accuracy is 0.884\n",
      "best_parameters C is 10.0\t best_parameters gamma is 0.001\n"
     ]
    }
   ],
   "source": [
    "print(f\"best_accuracy is {best_accuracy:.03f}\")\n",
    "print(f\"best_parameters C is {best_C}\\t best_parameters gamma is {best_gamma}\")"
   ]
  },
  {
   "cell_type": "markdown",
   "metadata": {},
   "source": [
    "## Question 3\n",
    "Plot the grid search results of your SVM. The x, y represents the hyperparameters of “gamma” and “C”, respectively. And the color represents the average score of validation folds\n",
    "You reults should be look like this reference image below ![image](https://miro.medium.com/max/1296/1*wGWTup9r4cVytB5MOnsjdQ.png) "
   ]
  },
  {
   "cell_type": "code",
   "execution_count": 11,
   "metadata": {},
   "outputs": [
    {
     "data": {
      "image/png": "[encoded data removed]",
      "text/plain": [
       "<Figure size 576x432 with 2 Axes>"
      ]
     },
     "metadata": {
      "needs_background": "light"
     },
     "output_type": "display_data"
    }
   ],
   "source": [
    "import seaborn as sn\n",
    "import matplotlib.pyplot as plt\n",
    "\n",
    "df = pd.DataFrame(gird_array, index=[i for i in C_list], columns=[i for i in gamma_list])\n",
    "plt.figure(figsize=(8, 6))\n",
    "plt.title(\"Hyperparameter Gridsearch\", fontsize=\"14\")\n",
    "sn.heatmap(df, annot=True, cmap='RdBu_r')\n",
    "plt.xlabel(\"Gamma Parameter\", fontsize=\"12\")\n",
    "plt.ylabel(\"C Parameter\", fontsize=\"12\")\n",
    "plt.show()"
   ]
  },
  {
   "cell_type": "markdown",
   "metadata": {},
   "source": [
    "## Question 4\n",
    "Train your SVM model by the best parameters you found from question 2 on the whole training set and evaluate the performance on the test set. **You accuracy should over 0.85**"
   ]
  },
  {
   "cell_type": "code",
   "execution_count": 12,
   "metadata": {},
   "outputs": [
    {
     "name": "stdout",
     "output_type": "stream",
     "text": [
      "Accuracy score: 0.8906\n"
     ]
    }
   ],
   "source": [
    "y_pred = best_model.predict(x_test)\n",
    "print(f\"Accuracy score: {accuracy_score(y_pred, y_test):.04f}\")"
   ]
  },
  {
   "cell_type": "markdown",
   "metadata": {},
   "source": [
    "## Question 5\n",
    "Compare the performance of the model you have implemented in HW1 with the SVM"
   ]
  },
  {
   "cell_type": "markdown",
   "metadata": {},
   "source": [
    "### HW1"
   ]
  },
  {
   "cell_type": "code",
   "execution_count": 13,
   "metadata": {
    "scrolled": false
   },
   "outputs": [],
   "source": [
    "train_df = pd.read_csv(\"../HW1/train_data.csv\")\n",
    "x_train = train_df['x_train'].to_numpy().reshape(-1, 1)\n",
    "y_train = train_df['y_train'].to_numpy().reshape(-1, 1)\n",
    "\n",
    "test_df = pd.read_csv(\"../HW1/test_data.csv\")\n",
    "x_test = test_df['x_test'].to_numpy().reshape(-1, 1)\n",
    "y_test = test_df['y_test'].to_numpy().reshape(-1, 1)\n",
    "\n",
    "#from HW1\n",
    "w0_MSE = -0.0012762766165574284\n",
    "w1_MSE = 0.452720248401306\n",
    "y_pred_MSE = w0_MSE + w1_MSE*x_test\n",
    "MSE_loss = np.sum((y_test-y_pred_MSE)**2) / len(x_test)\n",
    "\n",
    "y_train = train_df['y_train'].to_numpy().reshape(-1)\n",
    "y_test = test_df['y_test'].to_numpy().reshape(-1)\n",
    "\n",
    "method = \"SVR\"\n",
    "kfold_data = cross_validation(x_train, y_train, k=5)\n",
    "C_list = [0.01, 0.1, 1.0, 10.0, 100.0, 1000.0]\n",
    "gamma_list = [0.0001, 0.001, 0.01, 0.1, 1, 10, 100]\n",
    "best_accuracy, best_C, best_gamma, gird_array, best_model = Grid_Search(C_list, gamma_list, x_train, y_train, kfold_data, method)\n",
    "y_hat = best_model.predict(x_test)\n",
    "SVM_loss = np.sum((y_test-y_hat)**2) / len(x_test)"
   ]
  },
  {
   "cell_type": "code",
   "execution_count": 14,
   "metadata": {},
   "outputs": [
    {
     "name": "stdout",
     "output_type": "stream",
     "text": [
      "Square error of Linear regression: 0.49090350083705264\n",
      "Square error of SVM regresssion model: 0.4912613574583796\n"
     ]
    }
   ],
   "source": [
    "print(f\"Square error of Linear regression: {MSE_loss}\")\n",
    "print(f\"Square error of SVM regresssion model: {SVM_loss}\")"
   ]
  },
  {
   "cell_type": "code",
   "execution_count": null,
   "metadata": {},
   "outputs": [],
   "source": []
  }
 ],
 "metadata": {
  "kernelspec": {
   "display_name": "Python 3",
   "language": "python",
   "name": "python3"
  },
  "language_info": {
   "codemirror_mode": {
    "name": "ipython",
    "version": 3
   },
   "file_extension": ".py",
   "mimetype": "text/x-python",
   "name": "python",
   "nbconvert_exporter": "python",
   "pygments_lexer": "ipython3",
   "version": "3.6.9"
  }
 },
 "nbformat": 4,
 "nbformat_minor": 4
}
